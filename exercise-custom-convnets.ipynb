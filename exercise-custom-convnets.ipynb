{
 "cells": [
  {
   "cell_type": "markdown",
   "id": "cf6adaaf",
   "metadata": {
    "papermill": {
     "duration": 0.005199,
     "end_time": "2024-03-20T08:34:39.944533",
     "exception": false,
     "start_time": "2024-03-20T08:34:39.939334",
     "status": "completed"
    },
    "tags": []
   },
   "source": [
    "**This notebook is an exercise in the [Computer Vision](https://www.kaggle.com/learn/computer-vision) course.  You can reference the tutorial at [this link](https://www.kaggle.com/ryanholbrook/custom-convnets).**\n",
    "\n",
    "---\n"
   ]
  },
  {
   "cell_type": "markdown",
   "id": "165cce65",
   "metadata": {
    "papermill": {
     "duration": 0.004413,
     "end_time": "2024-03-20T08:34:39.954018",
     "exception": false,
     "start_time": "2024-03-20T08:34:39.949605",
     "status": "completed"
    },
    "tags": []
   },
   "source": [
    "# Introduction #\n",
    "\n",
    "In these exercises, you'll build a custom convnet with performance competitive to the VGG16 model from Lesson 1.\n",
    "\n",
    "Get started by running the code cell below."
   ]
  },
  {
   "cell_type": "code",
   "execution_count": 1,
   "id": "d482b156",
   "metadata": {
    "execution": {
     "iopub.execute_input": "2024-03-20T08:34:39.965628Z",
     "iopub.status.busy": "2024-03-20T08:34:39.964814Z",
     "iopub.status.idle": "2024-03-20T08:35:04.313664Z",
     "shell.execute_reply": "2024-03-20T08:35:04.312647Z"
    },
    "papermill": {
     "duration": 24.357435,
     "end_time": "2024-03-20T08:35:04.316142",
     "exception": false,
     "start_time": "2024-03-20T08:34:39.958707",
     "status": "completed"
    },
    "tags": []
   },
   "outputs": [
    {
     "name": "stderr",
     "output_type": "stream",
     "text": [
      "2024-03-20 08:34:42.553038: E external/local_xla/xla/stream_executor/cuda/cuda_dnn.cc:9261] Unable to register cuDNN factory: Attempting to register factory for plugin cuDNN when one has already been registered\n",
      "2024-03-20 08:34:42.553139: E external/local_xla/xla/stream_executor/cuda/cuda_fft.cc:607] Unable to register cuFFT factory: Attempting to register factory for plugin cuFFT when one has already been registered\n",
      "2024-03-20 08:34:42.695657: E external/local_xla/xla/stream_executor/cuda/cuda_blas.cc:1515] Unable to register cuBLAS factory: Attempting to register factory for plugin cuBLAS when one has already been registered\n"
     ]
    },
    {
     "name": "stdout",
     "output_type": "stream",
     "text": [
      "Found 5117 files belonging to 2 classes.\n",
      "Found 5051 files belonging to 2 classes.\n"
     ]
    }
   ],
   "source": [
    "# Setup feedback system\n",
    "from learntools.core import binder\n",
    "binder.bind(globals())\n",
    "from learntools.computer_vision.ex5 import *\n",
    "\n",
    "# Imports\n",
    "import os, warnings\n",
    "import matplotlib.pyplot as plt\n",
    "from matplotlib import gridspec\n",
    "\n",
    "import numpy as np\n",
    "import tensorflow as tf\n",
    "from tensorflow.keras.preprocessing import image_dataset_from_directory\n",
    "\n",
    "# Reproducability\n",
    "def set_seed(seed=31415):\n",
    "    np.random.seed(seed)\n",
    "    tf.random.set_seed(seed)\n",
    "    os.environ['PYTHONHASHSEED'] = str(seed)\n",
    "    os.environ['TF_DETERMINISTIC_OPS'] = '1'\n",
    "set_seed()\n",
    "\n",
    "# Set Matplotlib defaults\n",
    "plt.rc('figure', autolayout=True)\n",
    "plt.rc('axes', labelweight='bold', labelsize='large',\n",
    "       titleweight='bold', titlesize=18, titlepad=10)\n",
    "plt.rc('image', cmap='magma')\n",
    "warnings.filterwarnings(\"ignore\") # to clean up output cells\n",
    "\n",
    "\n",
    "# Load training and validation sets\n",
    "ds_train_ = image_dataset_from_directory(\n",
    "    '../input/car-or-truck/train',\n",
    "    labels='inferred',\n",
    "    label_mode='binary',\n",
    "    image_size=[128, 128],\n",
    "    interpolation='nearest',\n",
    "    batch_size=64,\n",
    "    shuffle=True,\n",
    ")\n",
    "ds_valid_ = image_dataset_from_directory(\n",
    "    '../input/car-or-truck/valid',\n",
    "    labels='inferred',\n",
    "    label_mode='binary',\n",
    "    image_size=[128, 128],\n",
    "    interpolation='nearest',\n",
    "    batch_size=64,\n",
    "    shuffle=False,\n",
    ")\n",
    "\n",
    "# Data Pipeline\n",
    "def convert_to_float(image, label):\n",
    "    image = tf.image.convert_image_dtype(image, dtype=tf.float32)\n",
    "    return image, label\n",
    "\n",
    "AUTOTUNE = tf.data.experimental.AUTOTUNE\n",
    "ds_train = (\n",
    "    ds_train_\n",
    "    .map(convert_to_float)\n",
    "    .cache()\n",
    "    .prefetch(buffer_size=AUTOTUNE)\n",
    ")\n",
    "ds_valid = (\n",
    "    ds_valid_\n",
    "    .map(convert_to_float)\n",
    "    .cache()\n",
    "    .prefetch(buffer_size=AUTOTUNE)\n",
    ")\n"
   ]
  },
  {
   "cell_type": "markdown",
   "id": "f20f9ba0",
   "metadata": {
    "papermill": {
     "duration": 0.005018,
     "end_time": "2024-03-20T08:35:04.326720",
     "exception": false,
     "start_time": "2024-03-20T08:35:04.321702",
     "status": "completed"
    },
    "tags": []
   },
   "source": [
    "# Design a Convnet #\n",
    "\n",
    "Let's design a convolutional network with a block architecture like we saw in the tutorial. The model from the example had three blocks, each with a single convolutional layer. Its performance on the \"Car or Truck\" problem was okay, but far from what the pretrained VGG16 could achieve. It might be that our simple network lacks the ability to extract sufficiently complex features. We could try improving the model either by adding more blocks or by adding convolutions to the blocks we have.\n",
    "\n",
    "Let's go with the second approach. We'll keep the three block structure, but increase the number of `Conv2D` layer in the second block to two, and in the third block to three.\n",
    "\n",
    "<figure>\n",
    "<!-- <img src=\"./images/2-convmodel-2.png\" width=\"250\" alt=\"Diagram of a convolutional model.\"> -->\n",
    "<img src=\"https://storage.googleapis.com/kaggle-media/learn/images/Vko6nCK.png\" width=\"250\" alt=\"Diagram of a convolutional model.\">\n",
    "</figure>\n",
    "\n",
    "# 1) Define Model #\n",
    "\n",
    "Given the diagram above, complete the model by defining the layers of the third block."
   ]
  },
  {
   "cell_type": "code",
   "execution_count": 2,
   "id": "12aec362",
   "metadata": {
    "execution": {
     "iopub.execute_input": "2024-03-20T08:35:04.338270Z",
     "iopub.status.busy": "2024-03-20T08:35:04.337891Z",
     "iopub.status.idle": "2024-03-20T08:35:04.499491Z",
     "shell.execute_reply": "2024-03-20T08:35:04.498541Z"
    },
    "lines_to_next_cell": 0,
    "papermill": {
     "duration": 0.169917,
     "end_time": "2024-03-20T08:35:04.501686",
     "exception": false,
     "start_time": "2024-03-20T08:35:04.331769",
     "status": "completed"
    },
    "tags": []
   },
   "outputs": [
    {
     "data": {
      "application/javascript": [
       "parent.postMessage({\"jupyterEvent\": \"custom.exercise_interaction\", \"data\": {\"outcomeType\": 1, \"valueTowardsCompletion\": 0.3333333333333333, \"interactionType\": 1, \"questionType\": 2, \"questionId\": \"1_Q1\", \"learnToolsVersion\": \"0.3.4\", \"failureMessage\": \"\", \"exceptionClass\": \"\", \"trace\": \"\"}}, \"*\")"
      ],
      "text/plain": [
       "<IPython.core.display.Javascript object>"
      ]
     },
     "metadata": {},
     "output_type": "display_data"
    },
    {
     "data": {
      "text/markdown": [
       "<span style=\"color:#33cc33\">Correct</span>"
      ],
      "text/plain": [
       "Correct"
      ]
     },
     "metadata": {},
     "output_type": "display_data"
    }
   ],
   "source": [
    "from tensorflow import keras\n",
    "from tensorflow.keras import layers\n",
    "\n",
    "model = keras.Sequential([\n",
    "    # Block One\n",
    "    layers.Conv2D(filters=32, kernel_size=3, activation='relu', padding='same',\n",
    "                  input_shape=[128, 128, 3]),\n",
    "    layers.MaxPool2D(),\n",
    "\n",
    "    # Block Two\n",
    "    layers.Conv2D(filters=64, kernel_size=3, activation='relu', padding='same'),\n",
    "    layers.MaxPool2D(),\n",
    "\n",
    "    # Block Three\n",
    "    # YOUR CODE HERE\n",
    "    layers.Conv2D(filters=128, kernel_size=3, activation='relu', padding='same'),\n",
    "    layers.Conv2D(filters=128, kernel_size=3, activation='relu', padding='same'),\n",
    "\n",
    "    layers.MaxPool2D(),\n",
    "\n",
    "    # Head\n",
    "    layers.Flatten(),\n",
    "    layers.Dense(6, activation='relu'),\n",
    "    layers.Dropout(0.2),\n",
    "    layers.Dense(1, activation='sigmoid'),\n",
    "])\n",
    "\n",
    "# Check your answer\n",
    "q_1.check()"
   ]
  },
  {
   "cell_type": "code",
   "execution_count": 3,
   "id": "cd4a55f3",
   "metadata": {
    "execution": {
     "iopub.execute_input": "2024-03-20T08:35:04.513425Z",
     "iopub.status.busy": "2024-03-20T08:35:04.513109Z",
     "iopub.status.idle": "2024-03-20T08:35:04.516822Z",
     "shell.execute_reply": "2024-03-20T08:35:04.515945Z"
    },
    "papermill": {
     "duration": 0.011852,
     "end_time": "2024-03-20T08:35:04.518835",
     "exception": false,
     "start_time": "2024-03-20T08:35:04.506983",
     "status": "completed"
    },
    "tags": []
   },
   "outputs": [],
   "source": [
    "# Lines below will give you a hint or solution code\n",
    "#q_1.hint()\n",
    "#q_1.solution()"
   ]
  },
  {
   "cell_type": "markdown",
   "id": "2302898d",
   "metadata": {
    "papermill": {
     "duration": 0.005184,
     "end_time": "2024-03-20T08:35:04.529215",
     "exception": false,
     "start_time": "2024-03-20T08:35:04.524031",
     "status": "completed"
    },
    "tags": []
   },
   "source": [
    "# 2) Compile #\n",
    "\n",
    "To prepare for training, compile the model with an appropriate loss and accuracy metric for the \"Car or Truck\" dataset."
   ]
  },
  {
   "cell_type": "code",
   "execution_count": 4,
   "id": "35e5987a",
   "metadata": {
    "execution": {
     "iopub.execute_input": "2024-03-20T08:35:04.541587Z",
     "iopub.status.busy": "2024-03-20T08:35:04.540635Z",
     "iopub.status.idle": "2024-03-20T08:35:04.740434Z",
     "shell.execute_reply": "2024-03-20T08:35:04.739495Z"
    },
    "lines_to_next_cell": 0,
    "papermill": {
     "duration": 0.208056,
     "end_time": "2024-03-20T08:35:04.742652",
     "exception": false,
     "start_time": "2024-03-20T08:35:04.534596",
     "status": "completed"
    },
    "tags": []
   },
   "outputs": [
    {
     "data": {
      "application/javascript": [
       "parent.postMessage({\"jupyterEvent\": \"custom.exercise_interaction\", \"data\": {\"outcomeType\": 1, \"valueTowardsCompletion\": 0.3333333333333333, \"interactionType\": 1, \"questionType\": 2, \"questionId\": \"2_Q2\", \"learnToolsVersion\": \"0.3.4\", \"failureMessage\": \"\", \"exceptionClass\": \"\", \"trace\": \"\"}}, \"*\")"
      ],
      "text/plain": [
       "<IPython.core.display.Javascript object>"
      ]
     },
     "metadata": {},
     "output_type": "display_data"
    },
    {
     "data": {
      "text/markdown": [
       "<span style=\"color:#33cc33\">Correct</span>"
      ],
      "text/plain": [
       "Correct"
      ]
     },
     "metadata": {},
     "output_type": "display_data"
    }
   ],
   "source": [
    "model.compile(\n",
    "    optimizer=tf.keras.optimizers.Adam(epsilon=0.01),\n",
    "    # YOUR CODE HERE: Add loss and metric\n",
    "    loss='binary_crossentropy',\n",
    "    metrics=['binary_accuracy']\n",
    ")\n",
    "\n",
    "# Check your answer\n",
    "q_2.check()"
   ]
  },
  {
   "cell_type": "code",
   "execution_count": 5,
   "id": "019d40b3",
   "metadata": {
    "execution": {
     "iopub.execute_input": "2024-03-20T08:35:04.755611Z",
     "iopub.status.busy": "2024-03-20T08:35:04.755309Z",
     "iopub.status.idle": "2024-03-20T08:35:04.769443Z",
     "shell.execute_reply": "2024-03-20T08:35:04.768505Z"
    },
    "lines_to_next_cell": 0,
    "papermill": {
     "duration": 0.022945,
     "end_time": "2024-03-20T08:35:04.771263",
     "exception": false,
     "start_time": "2024-03-20T08:35:04.748318",
     "status": "completed"
    },
    "tags": []
   },
   "outputs": [
    {
     "data": {
      "application/javascript": [
       "parent.postMessage({\"jupyterEvent\": \"custom.exercise_interaction\", \"data\": {\"outcomeType\": 1, \"valueTowardsCompletion\": 0.3333333333333333, \"interactionType\": 1, \"questionType\": 2, \"questionId\": \"2_Q2\", \"learnToolsVersion\": \"0.3.4\", \"failureMessage\": \"\", \"exceptionClass\": \"\", \"trace\": \"\"}}, \"*\")"
      ],
      "text/plain": [
       "<IPython.core.display.Javascript object>"
      ]
     },
     "metadata": {},
     "output_type": "display_data"
    },
    {
     "data": {
      "text/markdown": [
       "<span style=\"color:#33cc33\">Correct</span>"
      ],
      "text/plain": [
       "Correct"
      ]
     },
     "metadata": {},
     "output_type": "display_data"
    }
   ],
   "source": [
    "model.compile(\n",
    "    optimizer=tf.keras.optimizers.Adam(epsilon=0.01),\n",
    "    loss='binary_crossentropy',\n",
    "    metrics=['binary_accuracy'],\n",
    ")\n",
    "q_2.assert_check_passed()"
   ]
  },
  {
   "cell_type": "code",
   "execution_count": 6,
   "id": "f86bda12",
   "metadata": {
    "execution": {
     "iopub.execute_input": "2024-03-20T08:35:04.784957Z",
     "iopub.status.busy": "2024-03-20T08:35:04.784292Z",
     "iopub.status.idle": "2024-03-20T08:35:04.788373Z",
     "shell.execute_reply": "2024-03-20T08:35:04.787307Z"
    },
    "lines_to_next_cell": 0,
    "papermill": {
     "duration": 0.013193,
     "end_time": "2024-03-20T08:35:04.790340",
     "exception": false,
     "start_time": "2024-03-20T08:35:04.777147",
     "status": "completed"
    },
    "tags": []
   },
   "outputs": [],
   "source": [
    "# Lines below will give you a hint or solution code\n",
    "#q_2.hint()\n",
    "#q_2.solution()"
   ]
  },
  {
   "cell_type": "markdown",
   "id": "45ad0b07",
   "metadata": {
    "papermill": {
     "duration": 0.005807,
     "end_time": "2024-03-20T08:35:04.802120",
     "exception": false,
     "start_time": "2024-03-20T08:35:04.796313",
     "status": "completed"
    },
    "tags": []
   },
   "source": [
    "Finally, let's test the performance of this new model. First run this cell to fit the model to the training set."
   ]
  },
  {
   "cell_type": "code",
   "execution_count": 7,
   "id": "3310c668",
   "metadata": {
    "execution": {
     "iopub.execute_input": "2024-03-20T08:35:04.823621Z",
     "iopub.status.busy": "2024-03-20T08:35:04.822867Z",
     "iopub.status.idle": "2024-03-20T08:38:00.837741Z",
     "shell.execute_reply": "2024-03-20T08:38:00.836555Z"
    },
    "papermill": {
     "duration": 176.032047,
     "end_time": "2024-03-20T08:38:00.840004",
     "exception": false,
     "start_time": "2024-03-20T08:35:04.807957",
     "status": "completed"
    },
    "tags": []
   },
   "outputs": [
    {
     "name": "stdout",
     "output_type": "stream",
     "text": [
      "Epoch 1/50\n"
     ]
    },
    {
     "name": "stderr",
     "output_type": "stream",
     "text": [
      "WARNING: All log messages before absl::InitializeLog() is called are written to STDERR\n",
      "I0000 00:00:1710923709.392716      74 device_compiler.h:186] Compiled cluster using XLA!  This line is logged at most once for the lifetime of the process.\n"
     ]
    },
    {
     "name": "stdout",
     "output_type": "stream",
     "text": [
      "80/80 [==============================] - 19s 162ms/step - loss: 0.6808 - binary_accuracy: 0.5695 - val_loss: 0.6703 - val_binary_accuracy: 0.5785\n",
      "Epoch 2/50\n",
      "80/80 [==============================] - 3s 40ms/step - loss: 0.6650 - binary_accuracy: 0.5798 - val_loss: 0.6582 - val_binary_accuracy: 0.5785\n",
      "Epoch 3/50\n",
      "80/80 [==============================] - 3s 40ms/step - loss: 0.6576 - binary_accuracy: 0.5787 - val_loss: 0.6505 - val_binary_accuracy: 0.5785\n",
      "Epoch 4/50\n",
      "80/80 [==============================] - 3s 40ms/step - loss: 0.6521 - binary_accuracy: 0.5945 - val_loss: 0.6452 - val_binary_accuracy: 0.6217\n",
      "Epoch 5/50\n",
      "80/80 [==============================] - 3s 40ms/step - loss: 0.6480 - binary_accuracy: 0.6195 - val_loss: 0.6405 - val_binary_accuracy: 0.6266\n",
      "Epoch 6/50\n",
      "80/80 [==============================] - 3s 40ms/step - loss: 0.6427 - binary_accuracy: 0.6275 - val_loss: 0.6368 - val_binary_accuracy: 0.6312\n",
      "Epoch 7/50\n",
      "80/80 [==============================] - 3s 40ms/step - loss: 0.6405 - binary_accuracy: 0.6244 - val_loss: 0.6308 - val_binary_accuracy: 0.6383\n",
      "Epoch 8/50\n",
      "80/80 [==============================] - 3s 40ms/step - loss: 0.6344 - binary_accuracy: 0.6389 - val_loss: 0.6183 - val_binary_accuracy: 0.6539\n",
      "Epoch 9/50\n",
      "80/80 [==============================] - 3s 40ms/step - loss: 0.6291 - binary_accuracy: 0.6463 - val_loss: 0.6193 - val_binary_accuracy: 0.6514\n",
      "Epoch 10/50\n",
      "80/80 [==============================] - 3s 40ms/step - loss: 0.6221 - binary_accuracy: 0.6613 - val_loss: 0.6144 - val_binary_accuracy: 0.6644\n",
      "Epoch 11/50\n",
      "80/80 [==============================] - 3s 40ms/step - loss: 0.6135 - binary_accuracy: 0.6668 - val_loss: 0.6165 - val_binary_accuracy: 0.6551\n",
      "Epoch 12/50\n",
      "80/80 [==============================] - 3s 40ms/step - loss: 0.6051 - binary_accuracy: 0.6791 - val_loss: 0.6027 - val_binary_accuracy: 0.6702\n",
      "Epoch 13/50\n",
      "80/80 [==============================] - 3s 40ms/step - loss: 0.5932 - binary_accuracy: 0.6842 - val_loss: 0.5863 - val_binary_accuracy: 0.6832\n",
      "Epoch 14/50\n",
      "80/80 [==============================] - 3s 40ms/step - loss: 0.5827 - binary_accuracy: 0.6973 - val_loss: 0.5735 - val_binary_accuracy: 0.7046\n",
      "Epoch 15/50\n",
      "80/80 [==============================] - 3s 40ms/step - loss: 0.5583 - binary_accuracy: 0.7178 - val_loss: 0.5507 - val_binary_accuracy: 0.7246\n",
      "Epoch 16/50\n",
      "80/80 [==============================] - 3s 40ms/step - loss: 0.5499 - binary_accuracy: 0.7268 - val_loss: 0.5391 - val_binary_accuracy: 0.7286\n",
      "Epoch 17/50\n",
      "80/80 [==============================] - 3s 40ms/step - loss: 0.5254 - binary_accuracy: 0.7457 - val_loss: 0.5195 - val_binary_accuracy: 0.7458\n",
      "Epoch 18/50\n",
      "80/80 [==============================] - 3s 40ms/step - loss: 0.5037 - binary_accuracy: 0.7624 - val_loss: 0.4960 - val_binary_accuracy: 0.7658\n",
      "Epoch 19/50\n",
      "80/80 [==============================] - 3s 40ms/step - loss: 0.4828 - binary_accuracy: 0.7778 - val_loss: 0.4916 - val_binary_accuracy: 0.7668\n",
      "Epoch 20/50\n",
      "80/80 [==============================] - 3s 40ms/step - loss: 0.4629 - binary_accuracy: 0.7848 - val_loss: 0.4624 - val_binary_accuracy: 0.7860\n",
      "Epoch 21/50\n",
      "80/80 [==============================] - 3s 40ms/step - loss: 0.4343 - binary_accuracy: 0.7977 - val_loss: 0.4574 - val_binary_accuracy: 0.7816\n",
      "Epoch 22/50\n",
      "80/80 [==============================] - 3s 40ms/step - loss: 0.3929 - binary_accuracy: 0.8181 - val_loss: 0.4284 - val_binary_accuracy: 0.8002\n",
      "Epoch 23/50\n",
      "80/80 [==============================] - 3s 40ms/step - loss: 0.3546 - binary_accuracy: 0.8482 - val_loss: 0.4463 - val_binary_accuracy: 0.7983\n",
      "Epoch 24/50\n",
      "80/80 [==============================] - 3s 40ms/step - loss: 0.3301 - binary_accuracy: 0.8540 - val_loss: 0.4332 - val_binary_accuracy: 0.8097\n",
      "Epoch 25/50\n",
      "80/80 [==============================] - 3s 40ms/step - loss: 0.3200 - binary_accuracy: 0.8538 - val_loss: 0.4648 - val_binary_accuracy: 0.7676\n",
      "Epoch 26/50\n",
      "80/80 [==============================] - 3s 40ms/step - loss: 0.2973 - binary_accuracy: 0.8655 - val_loss: 0.4981 - val_binary_accuracy: 0.7745\n",
      "Epoch 27/50\n",
      "80/80 [==============================] - 3s 40ms/step - loss: 0.2795 - binary_accuracy: 0.8693 - val_loss: 0.5677 - val_binary_accuracy: 0.7696\n",
      "Epoch 28/50\n",
      "80/80 [==============================] - 3s 40ms/step - loss: 0.2609 - binary_accuracy: 0.8781 - val_loss: 0.5512 - val_binary_accuracy: 0.7826\n",
      "Epoch 29/50\n",
      "80/80 [==============================] - 3s 40ms/step - loss: 0.2335 - binary_accuracy: 0.8896 - val_loss: 0.4328 - val_binary_accuracy: 0.8280\n",
      "Epoch 30/50\n",
      "80/80 [==============================] - 3s 40ms/step - loss: 0.2207 - binary_accuracy: 0.8943 - val_loss: 0.4694 - val_binary_accuracy: 0.8291\n",
      "Epoch 31/50\n",
      "80/80 [==============================] - 3s 40ms/step - loss: 0.1994 - binary_accuracy: 0.9087 - val_loss: 0.4640 - val_binary_accuracy: 0.8155\n",
      "Epoch 32/50\n",
      "80/80 [==============================] - 3s 40ms/step - loss: 0.1801 - binary_accuracy: 0.9156 - val_loss: 0.5361 - val_binary_accuracy: 0.8088\n",
      "Epoch 33/50\n",
      "80/80 [==============================] - 3s 40ms/step - loss: 0.2042 - binary_accuracy: 0.8968 - val_loss: 0.4188 - val_binary_accuracy: 0.8355\n",
      "Epoch 34/50\n",
      "80/80 [==============================] - 3s 40ms/step - loss: 0.1704 - binary_accuracy: 0.9205 - val_loss: 0.5455 - val_binary_accuracy: 0.8113\n",
      "Epoch 35/50\n",
      "80/80 [==============================] - 3s 40ms/step - loss: 0.1597 - binary_accuracy: 0.9220 - val_loss: 0.5872 - val_binary_accuracy: 0.8082\n",
      "Epoch 36/50\n",
      "80/80 [==============================] - 3s 40ms/step - loss: 0.1330 - binary_accuracy: 0.9343 - val_loss: 0.6269 - val_binary_accuracy: 0.8058\n",
      "Epoch 37/50\n",
      "80/80 [==============================] - 3s 40ms/step - loss: 0.1223 - binary_accuracy: 0.9367 - val_loss: 0.6404 - val_binary_accuracy: 0.8107\n",
      "Epoch 38/50\n",
      "80/80 [==============================] - 3s 40ms/step - loss: 0.1165 - binary_accuracy: 0.9384 - val_loss: 0.6641 - val_binary_accuracy: 0.8149\n",
      "Epoch 39/50\n",
      "80/80 [==============================] - 3s 40ms/step - loss: 0.1067 - binary_accuracy: 0.9468 - val_loss: 0.7141 - val_binary_accuracy: 0.8181\n",
      "Epoch 40/50\n",
      "80/80 [==============================] - 3s 40ms/step - loss: 0.1153 - binary_accuracy: 0.9402 - val_loss: 0.5107 - val_binary_accuracy: 0.8375\n",
      "Epoch 41/50\n",
      "80/80 [==============================] - 3s 40ms/step - loss: 0.1179 - binary_accuracy: 0.9398 - val_loss: 0.4817 - val_binary_accuracy: 0.8460\n",
      "Epoch 42/50\n",
      "80/80 [==============================] - 3s 40ms/step - loss: 0.1031 - binary_accuracy: 0.9447 - val_loss: 0.4766 - val_binary_accuracy: 0.8408\n",
      "Epoch 43/50\n",
      "80/80 [==============================] - 3s 40ms/step - loss: 0.0965 - binary_accuracy: 0.9502 - val_loss: 0.5315 - val_binary_accuracy: 0.8426\n",
      "Epoch 44/50\n",
      "80/80 [==============================] - 3s 40ms/step - loss: 0.0874 - binary_accuracy: 0.9533 - val_loss: 0.6174 - val_binary_accuracy: 0.8066\n",
      "Epoch 45/50\n",
      "80/80 [==============================] - 3s 40ms/step - loss: 0.0857 - binary_accuracy: 0.9533 - val_loss: 0.7174 - val_binary_accuracy: 0.7975\n",
      "Epoch 46/50\n",
      "80/80 [==============================] - 3s 40ms/step - loss: 0.0777 - binary_accuracy: 0.9597 - val_loss: 0.5900 - val_binary_accuracy: 0.8373\n",
      "Epoch 47/50\n",
      "80/80 [==============================] - 3s 40ms/step - loss: 0.0750 - binary_accuracy: 0.9695 - val_loss: 0.7649 - val_binary_accuracy: 0.8337\n",
      "Epoch 48/50\n",
      "80/80 [==============================] - 3s 40ms/step - loss: 0.0630 - binary_accuracy: 0.9734 - val_loss: 0.6755 - val_binary_accuracy: 0.8432\n",
      "Epoch 49/50\n",
      "80/80 [==============================] - 3s 40ms/step - loss: 0.0639 - binary_accuracy: 0.9713 - val_loss: 0.7656 - val_binary_accuracy: 0.8289\n",
      "Epoch 50/50\n",
      "80/80 [==============================] - 3s 40ms/step - loss: 0.0492 - binary_accuracy: 0.9799 - val_loss: 0.6267 - val_binary_accuracy: 0.8505\n"
     ]
    }
   ],
   "source": [
    "history = model.fit(\n",
    "    ds_train,\n",
    "    validation_data=ds_valid,\n",
    "    epochs=50,\n",
    ")"
   ]
  },
  {
   "cell_type": "markdown",
   "id": "2c4223c1",
   "metadata": {
    "papermill": {
     "duration": 0.178225,
     "end_time": "2024-03-20T08:38:01.249014",
     "exception": false,
     "start_time": "2024-03-20T08:38:01.070789",
     "status": "completed"
    },
    "tags": []
   },
   "source": [
    "And now run the cell below to plot the loss and metric curves for this training run."
   ]
  },
  {
   "cell_type": "code",
   "execution_count": 8,
   "id": "e92d9289",
   "metadata": {
    "execution": {
     "iopub.execute_input": "2024-03-20T08:38:01.600296Z",
     "iopub.status.busy": "2024-03-20T08:38:01.599897Z",
     "iopub.status.idle": "2024-03-20T08:38:02.303803Z",
     "shell.execute_reply": "2024-03-20T08:38:02.302823Z"
    },
    "papermill": {
     "duration": 0.882039,
     "end_time": "2024-03-20T08:38:02.305849",
     "exception": false,
     "start_time": "2024-03-20T08:38:01.423810",
     "status": "completed"
    },
    "tags": []
   },
   "outputs": [
    {
     "data": {
      "image/png": "[encoded data removed]",
      "text/plain": [
       "<Figure size 640x480 with 1 Axes>"
      ]
     },
     "metadata": {},
     "output_type": "display_data"
    },
    {
     "data": {
      "image/png": "[encoded data removed]",
      "text/plain": [
       "<Figure size 640x480 with 1 Axes>"
      ]
     },
     "metadata": {},
     "output_type": "display_data"
    }
   ],
   "source": [
    "import pandas as pd\n",
    "history_frame = pd.DataFrame(history.history)\n",
    "history_frame.loc[:, ['loss', 'val_loss']].plot()\n",
    "history_frame.loc[:, ['binary_accuracy', 'val_binary_accuracy']].plot();"
   ]
  },
  {
   "cell_type": "markdown",
   "id": "175442f8",
   "metadata": {
    "papermill": {
     "duration": 0.175327,
     "end_time": "2024-03-20T08:38:02.655760",
     "exception": false,
     "start_time": "2024-03-20T08:38:02.480433",
     "status": "completed"
    },
    "tags": []
   },
   "source": [
    "# 3) Train the Model #\n",
    "\n",
    "How would you interpret these training curves? Did this model improve upon the model from the tutorial?"
   ]
  },
  {
   "cell_type": "code",
   "execution_count": 9,
   "id": "066b5241",
   "metadata": {
    "execution": {
     "iopub.execute_input": "2024-03-20T08:38:03.020039Z",
     "iopub.status.busy": "2024-03-20T08:38:03.019665Z",
     "iopub.status.idle": "2024-03-20T08:38:03.028013Z",
     "shell.execute_reply": "2024-03-20T08:38:03.027031Z"
    },
    "lines_to_next_cell": 0,
    "papermill": {
     "duration": 0.194268,
     "end_time": "2024-03-20T08:38:03.030424",
     "exception": false,
     "start_time": "2024-03-20T08:38:02.836156",
     "status": "completed"
    },
    "tags": []
   },
   "outputs": [
    {
     "data": {
      "application/javascript": [
       "parent.postMessage({\"jupyterEvent\": \"custom.exercise_interaction\", \"data\": {\"outcomeType\": 1, \"valueTowardsCompletion\": 0.3333333333333333, \"interactionType\": 1, \"questionType\": 4, \"questionId\": \"3_Q3\", \"learnToolsVersion\": \"0.3.4\", \"failureMessage\": \"\", \"exceptionClass\": \"\", \"trace\": \"\"}}, \"*\")"
      ],
      "text/plain": [
       "<IPython.core.display.Javascript object>"
      ]
     },
     "metadata": {},
     "output_type": "display_data"
    },
    {
     "data": {
      "text/markdown": [
       "<span style=\"color:#33cc33\">Correct:</span> \n",
       "\n",
       "\n",
       "The learning curves for the model from the tutorial diverged fairly rapidly. This would indicate that it was prone to overfitting and in need of some regularization. The additional layer in our new model would make it even more prone to overfitting. However, adding some regularization with the `Dropout` layer helped prevent this. These changes improved the validation accuracy of the model by several points.\n"
      ],
      "text/plain": [
       "Correct: \n",
       "\n",
       "\n",
       "The learning curves for the model from the tutorial diverged fairly rapidly. This would indicate that it was prone to overfitting and in need of some regularization. The additional layer in our new model would make it even more prone to overfitting. However, adding some regularization with the `Dropout` layer helped prevent this. These changes improved the validation accuracy of the model by several points."
      ]
     },
     "metadata": {},
     "output_type": "display_data"
    }
   ],
   "source": [
    "# View the solution (Run this code cell to receive credit!)\n",
    "q_3.check()"
   ]
  },
  {
   "cell_type": "markdown",
   "id": "9b8ce8c8",
   "metadata": {
    "papermill": {
     "duration": 0.177314,
     "end_time": "2024-03-20T08:38:03.394118",
     "exception": false,
     "start_time": "2024-03-20T08:38:03.216804",
     "status": "completed"
    },
    "tags": []
   },
   "source": [
    "# Conclusion #\n",
    "\n",
    "These exercises showed you how to design a custom convolutional network to solve a specific classification problem. Though most models these days will be built on top of a pretrained base, it certain circumstances a smaller custom convnet might still be preferable -- such as with a smaller or unusual dataset or when computing resources are very limited. As you saw here, for certain problems they can perform just as well as a pretrained model.\n",
    "\n",
    "# Keep Going #\n",
    "\n",
    "Continue on to [**Lesson 6**](https://www.kaggle.com/ryanholbrook/data-augmentation), where you'll learn a widely-used technique that can give a boost to your training data: **data augmentation**."
   ]
  },
  {
   "cell_type": "markdown",
   "id": "56595004",
   "metadata": {
    "papermill": {
     "duration": 0.173867,
     "end_time": "2024-03-20T08:38:03.786275",
     "exception": false,
     "start_time": "2024-03-20T08:38:03.612408",
     "status": "completed"
    },
    "tags": []
   },
   "source": [
    "---\n",
    "\n",
    "\n",
    "\n",
    "\n",
    "*Have questions or comments? Visit the [course discussion forum](https://www.kaggle.com/learn/computer-vision/discussion) to chat with other learners.*"
   ]
  }
 ],
 "metadata": {
  "jupytext": {
   "formats": "md,ipynb"
  },
  "kaggle": {
   "accelerator": "gpu",
   "dataSources": [
    {
     "datasetId": 708136,
     "sourceId": 1338830,
     "sourceType": "datasetVersion"
    },
    {
     "datasetId": 701538,
     "sourceId": 1363948,
     "sourceType": "datasetVersion"
    },
    {
     "datasetId": 878523,
     "sourceId": 1495782,
     "sourceType": "datasetVersion"
    }
   ],
   "dockerImageVersionId": 30648,
   "isGpuEnabled": true,
   "isInternetEnabled": false,
   "language": "python",
   "sourceType": "notebook"
  },
  "kernelspec": {
   "display_name": "Python 3",
   "language": "python",
   "name": "python3"
  },
  "language_info": {
   "codemirror_mode": {
    "name": "ipython",
    "version": 3
   },
   "file_extension": ".py",
   "mimetype": "text/x-python",
   "name": "python",
   "nbconvert_exporter": "python",
   "pygments_lexer": "ipython3",
   "version": "3.10.13"
  },
  "papermill": {
   "default_parameters": {},
   "duration": 209.383273,
   "end_time": "2024-03-20T08:38:06.447384",
   "environment_variables": {},
   "exception": null,
   "input_path": "__notebook__.ipynb",
   "output_path": "__notebook__.ipynb",
   "parameters": {},
   "start_time": "2024-03-20T08:34:37.064111",
   "version": "2.5.0"
  }
 },
 "nbformat": 4,
 "nbformat_minor": 5
}
