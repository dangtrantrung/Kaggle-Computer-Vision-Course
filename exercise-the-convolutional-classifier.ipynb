{
 "cells": [
  {
   "cell_type": "markdown",
   "id": "67a39e20",
   "metadata": {
    "papermill": {
     "duration": 0.006506,
     "end_time": "2024-03-18T02:16:23.457520",
     "exception": false,
     "start_time": "2024-03-18T02:16:23.451014",
     "status": "completed"
    },
    "tags": []
   },
   "source": [
    "**This notebook is an exercise in the [Computer Vision](https://www.kaggle.com/learn/computer-vision) course.  You can reference the tutorial at [this link](https://www.kaggle.com/ryanholbrook/the-convolutional-classifier).**\n",
    "\n",
    "---\n"
   ]
  },
  {
   "cell_type": "markdown",
   "id": "f720b2dc",
   "metadata": {
    "papermill": {
     "duration": 0.005385,
     "end_time": "2024-03-18T02:16:23.468809",
     "exception": false,
     "start_time": "2024-03-18T02:16:23.463424",
     "status": "completed"
    },
    "tags": []
   },
   "source": [
    "<blockquote style=\"margin-right:auto; margin-left:auto; background-color: #ebf9ff; padding: 1em; margin:24px;\">\n",
    "    <strong>Accelerate Training with a Kaggle GPU!</strong><br>\n",
    "Did you know Kaggle offers free time with a GPU accelerator? You can speed up training neural networks in this course by switching to <strong>GPU</strong> in the <em>Accelerator</em> option on the right. (It may already be turned on.) Two things to be aware of:\n",
    "<ul>\n",
    "<li>Changing the <em>Accelerator</em> option will cause the notebook session to restart. You'll need to rerun any setup code.\n",
    "<li>You can have only one GPU session at a time, so be sure to shut the notebook down after you've finished the exercise.\n",
    "</ul>\n",
    "</blockquote>"
   ]
  },
  {
   "cell_type": "markdown",
   "id": "a859aac1",
   "metadata": {
    "papermill": {
     "duration": 0.005411,
     "end_time": "2024-03-18T02:16:23.480064",
     "exception": false,
     "start_time": "2024-03-18T02:16:23.474653",
     "status": "completed"
    },
    "tags": []
   },
   "source": [
    "# Introduction #\n",
    "\n",
    "In the tutorial, we saw how to build an image classifier by attaching a head of dense layers to a pretrained base. The base we used was from a model called **VGG16**. We saw that the VGG16 architecture was prone to overfitting this dataset. Over this course, you'll learn a number of ways you can improve upon this initial attempt.\n",
    "\n",
    "The first way you'll see is to use a base more appropriate to the dataset. The base this model comes from is called **InceptionV1** (also known as GoogLeNet). InceptionV1 was one of the early winners of the ImageNet competition. One of its successors, InceptionV4, is among the state of the art today.\n",
    "\n",
    "To get started, run the code cell below to set everything up."
   ]
  },
  {
   "cell_type": "code",
   "execution_count": 1,
   "id": "22ca7d31",
   "metadata": {
    "execution": {
     "iopub.execute_input": "2024-03-18T02:16:23.493434Z",
     "iopub.status.busy": "2024-03-18T02:16:23.492738Z",
     "iopub.status.idle": "2024-03-18T02:16:44.362565Z",
     "shell.execute_reply": "2024-03-18T02:16:44.361588Z"
    },
    "lines_to_next_cell": 2,
    "papermill": {
     "duration": 20.87907,
     "end_time": "2024-03-18T02:16:44.364917",
     "exception": false,
     "start_time": "2024-03-18T02:16:23.485847",
     "status": "completed"
    },
    "tags": []
   },
   "outputs": [
    {
     "name": "stderr",
     "output_type": "stream",
     "text": [
      "2024-03-18 02:16:26.086882: E external/local_xla/xla/stream_executor/cuda/cuda_dnn.cc:9261] Unable to register cuDNN factory: Attempting to register factory for plugin cuDNN when one has already been registered\n",
      "2024-03-18 02:16:26.086975: E external/local_xla/xla/stream_executor/cuda/cuda_fft.cc:607] Unable to register cuFFT factory: Attempting to register factory for plugin cuFFT when one has already been registered\n",
      "2024-03-18 02:16:26.223361: E external/local_xla/xla/stream_executor/cuda/cuda_blas.cc:1515] Unable to register cuBLAS factory: Attempting to register factory for plugin cuBLAS when one has already been registered\n"
     ]
    },
    {
     "name": "stdout",
     "output_type": "stream",
     "text": [
      "Found 5117 files belonging to 2 classes.\n",
      "Found 5051 files belonging to 2 classes.\n"
     ]
    }
   ],
   "source": [
    "# Setup feedback system\n",
    "from learntools.core import binder\n",
    "binder.bind(globals())\n",
    "from learntools.computer_vision.ex1 import *\n",
    "\n",
    "# Imports\n",
    "import os, warnings\n",
    "import matplotlib.pyplot as plt\n",
    "from matplotlib import gridspec\n",
    "\n",
    "import numpy as np\n",
    "import tensorflow as tf\n",
    "from tensorflow.keras.preprocessing import image_dataset_from_directory\n",
    "\n",
    "# Reproducability\n",
    "def set_seed(seed=31415):\n",
    "    np.random.seed(seed)\n",
    "    tf.random.set_seed(seed)\n",
    "    os.environ['PYTHONHASHSEED'] = str(seed)\n",
    "    os.environ['TF_DETERMINISTIC_OPS'] = '1'\n",
    "set_seed()\n",
    "\n",
    "# Set Matplotlib defaults\n",
    "plt.rc('figure', autolayout=True)\n",
    "plt.rc('axes', labelweight='bold', labelsize='large',\n",
    "       titleweight='bold', titlesize=18, titlepad=10)\n",
    "plt.rc('image', cmap='magma')\n",
    "warnings.filterwarnings(\"ignore\") # to clean up output cells\n",
    "\n",
    "\n",
    "# Load training and validation sets\n",
    "ds_train_ = image_dataset_from_directory(\n",
    "    '../input/car-or-truck/train',\n",
    "    labels='inferred',\n",
    "    label_mode='binary',\n",
    "    image_size=[128, 128],\n",
    "    interpolation='nearest',\n",
    "    batch_size=64,\n",
    "    shuffle=True,\n",
    ")\n",
    "ds_valid_ = image_dataset_from_directory(\n",
    "    '../input/car-or-truck/valid',\n",
    "    labels='inferred',\n",
    "    label_mode='binary',\n",
    "    image_size=[128, 128],\n",
    "    interpolation='nearest',\n",
    "    batch_size=64,\n",
    "    shuffle=False,\n",
    ")\n",
    "\n",
    "# Data Pipeline\n",
    "def convert_to_float(image, label):\n",
    "    image = tf.image.convert_image_dtype(image, dtype=tf.float32)\n",
    "    return image, label\n",
    "\n",
    "AUTOTUNE = tf.data.experimental.AUTOTUNE\n",
    "ds_train = (\n",
    "    ds_train_\n",
    "    .map(convert_to_float)\n",
    "    .cache()\n",
    "    .prefetch(buffer_size=AUTOTUNE)\n",
    ")\n",
    "ds_valid = (\n",
    "    ds_valid_\n",
    "    .map(convert_to_float)\n",
    "    .cache()\n",
    "    .prefetch(buffer_size=AUTOTUNE)\n",
    ")\n"
   ]
  },
  {
   "cell_type": "markdown",
   "id": "e6b7b516",
   "metadata": {
    "papermill": {
     "duration": 0.005938,
     "end_time": "2024-03-18T02:16:44.377015",
     "exception": false,
     "start_time": "2024-03-18T02:16:44.371077",
     "status": "completed"
    },
    "tags": []
   },
   "source": [
    "The **InceptionV1** model pretrained on ImageNet is available in the [TensorFlow Hub](https://www.tensorflow.org/hub/) repository, but we'll load it from a local copy. Run this cell to load InceptionV1 for your base."
   ]
  },
  {
   "cell_type": "code",
   "execution_count": 2,
   "id": "654c3b1e",
   "metadata": {
    "execution": {
     "iopub.execute_input": "2024-03-18T02:16:44.390299Z",
     "iopub.status.busy": "2024-03-18T02:16:44.389969Z",
     "iopub.status.idle": "2024-03-18T02:16:48.265845Z",
     "shell.execute_reply": "2024-03-18T02:16:48.265075Z"
    },
    "lines_to_next_cell": 0,
    "papermill": {
     "duration": 3.885817,
     "end_time": "2024-03-18T02:16:48.268813",
     "exception": false,
     "start_time": "2024-03-18T02:16:44.382996",
     "status": "completed"
    },
    "tags": []
   },
   "outputs": [],
   "source": [
    "import tensorflow_hub as hub\n",
    "\n",
    "pretrained_base = tf.keras.models.load_model(\n",
    "    '../input/cv-course-models/cv-course-models/inceptionv1'\n",
    ")"
   ]
  },
  {
   "cell_type": "markdown",
   "id": "55c826ee",
   "metadata": {
    "papermill": {
     "duration": 0.006053,
     "end_time": "2024-03-18T02:16:48.283440",
     "exception": false,
     "start_time": "2024-03-18T02:16:48.277387",
     "status": "completed"
    },
    "tags": []
   },
   "source": [
    "# 1) Define Pretrained Base #\n",
    "\n",
    "Now that you have a pretrained base to do our feature extraction, decide whether this base should be trainable or not."
   ]
  },
  {
   "cell_type": "code",
   "execution_count": 3,
   "id": "052240ac",
   "metadata": {
    "execution": {
     "iopub.execute_input": "2024-03-18T02:16:48.296737Z",
     "iopub.status.busy": "2024-03-18T02:16:48.296438Z",
     "iopub.status.idle": "2024-03-18T02:16:48.305199Z",
     "shell.execute_reply": "2024-03-18T02:16:48.304291Z"
    },
    "lines_to_next_cell": 0,
    "papermill": {
     "duration": 0.017767,
     "end_time": "2024-03-18T02:16:48.307181",
     "exception": false,
     "start_time": "2024-03-18T02:16:48.289414",
     "status": "completed"
    },
    "tags": []
   },
   "outputs": [
    {
     "data": {
      "application/javascript": [
       "parent.postMessage({\"jupyterEvent\": \"custom.exercise_interaction\", \"data\": {\"outcomeType\": 1, \"valueTowardsCompletion\": 0.25, \"interactionType\": 1, \"questionType\": 2, \"questionId\": \"1_Q1\", \"learnToolsVersion\": \"0.3.4\", \"failureMessage\": \"\", \"exceptionClass\": \"\", \"trace\": \"\"}}, \"*\")"
      ],
      "text/plain": [
       "<IPython.core.display.Javascript object>"
      ]
     },
     "metadata": {},
     "output_type": "display_data"
    },
    {
     "data": {
      "text/markdown": [
       "<span style=\"color:#33cc33\">Correct:</span> When doing transfer learning, it's generally not a good idea to retrain the entire base -- at least not without some care. The reason is that the random weights in the head will initially create large gradient updates, which propogate back into the base layers and destroy much of the pretraining. Using techniques known as **fine tuning** it's possible to further train the base on new data, but this requires some care to do well."
      ],
      "text/plain": [
       "Correct: When doing transfer learning, it's generally not a good idea to retrain the entire base -- at least not without some care. The reason is that the random weights in the head will initially create large gradient updates, which propogate back into the base layers and destroy much of the pretraining. Using techniques known as **fine tuning** it's possible to further train the base on new data, but this requires some care to do well."
      ]
     },
     "metadata": {},
     "output_type": "display_data"
    }
   ],
   "source": [
    "# YOUR_CODE_HERE\n",
    "pretrained_base.trainable = False\n",
    "\n",
    "# Check your answer\n",
    "q_1.check()"
   ]
  },
  {
   "cell_type": "code",
   "execution_count": 4,
   "id": "24a12987",
   "metadata": {
    "execution": {
     "iopub.execute_input": "2024-03-18T02:16:48.321909Z",
     "iopub.status.busy": "2024-03-18T02:16:48.321530Z",
     "iopub.status.idle": "2024-03-18T02:16:48.326769Z",
     "shell.execute_reply": "2024-03-18T02:16:48.325618Z"
    },
    "papermill": {
     "duration": 0.016152,
     "end_time": "2024-03-18T02:16:48.329503",
     "exception": false,
     "start_time": "2024-03-18T02:16:48.313351",
     "status": "completed"
    },
    "tags": []
   },
   "outputs": [],
   "source": [
    "# Lines below will give you a hint or solution code\n",
    "#q_1.hint()\n",
    "#q_1.solution()"
   ]
  },
  {
   "cell_type": "markdown",
   "id": "d017f916",
   "metadata": {
    "papermill": {
     "duration": 0.006104,
     "end_time": "2024-03-18T02:16:48.347149",
     "exception": false,
     "start_time": "2024-03-18T02:16:48.341045",
     "status": "completed"
    },
    "tags": []
   },
   "source": [
    "# 2) Attach Head #\n",
    "\n",
    "Now that the base is defined to do the feature extraction, create a head of `Dense` layers to perform the classification, following this diagram:\n",
    "\n",
    "<figure>\n",
    "<img src=\"https://storage.googleapis.com/kaggle-media/learn/images/i5VU7Ry.png\" alt=\"Diagram of the dense head.\">\n",
    "</figure>\n"
   ]
  },
  {
   "cell_type": "code",
   "execution_count": 5,
   "id": "35248328",
   "metadata": {
    "execution": {
     "iopub.execute_input": "2024-03-18T02:16:48.361113Z",
     "iopub.status.busy": "2024-03-18T02:16:48.360454Z",
     "iopub.status.idle": "2024-03-18T02:16:48.379515Z",
     "shell.execute_reply": "2024-03-18T02:16:48.378607Z"
    },
    "lines_to_next_cell": 0,
    "papermill": {
     "duration": 0.0281,
     "end_time": "2024-03-18T02:16:48.381404",
     "exception": false,
     "start_time": "2024-03-18T02:16:48.353304",
     "status": "completed"
    },
    "tags": []
   },
   "outputs": [
    {
     "data": {
      "application/javascript": [
       "parent.postMessage({\"jupyterEvent\": \"custom.exercise_interaction\", \"data\": {\"outcomeType\": 1, \"valueTowardsCompletion\": 0.25, \"interactionType\": 1, \"questionType\": 2, \"questionId\": \"2_Q2\", \"learnToolsVersion\": \"0.3.4\", \"failureMessage\": \"\", \"exceptionClass\": \"\", \"trace\": \"\"}}, \"*\")"
      ],
      "text/plain": [
       "<IPython.core.display.Javascript object>"
      ]
     },
     "metadata": {},
     "output_type": "display_data"
    },
    {
     "data": {
      "text/markdown": [
       "<span style=\"color:#33cc33\">Correct</span>"
      ],
      "text/plain": [
       "Correct"
      ]
     },
     "metadata": {},
     "output_type": "display_data"
    }
   ],
   "source": [
    "from tensorflow import keras\n",
    "from tensorflow.keras import layers\n",
    "\n",
    "model = keras.Sequential([\n",
    "    pretrained_base,\n",
    "    layers.Flatten(),\n",
    "    # YOUR CODE HERE. Attach a head of dense layers.\n",
    "    layers.Dense(6,activation='relu'),\n",
    "    layers.Dense(1,activation='sigmoid'),\n",
    "])\n",
    "\n",
    "# Check your answer\n",
    "q_2.check()"
   ]
  },
  {
   "cell_type": "code",
   "execution_count": 6,
   "id": "1f18d06e",
   "metadata": {
    "execution": {
     "iopub.execute_input": "2024-03-18T02:16:48.395665Z",
     "iopub.status.busy": "2024-03-18T02:16:48.395395Z",
     "iopub.status.idle": "2024-03-18T02:16:48.398922Z",
     "shell.execute_reply": "2024-03-18T02:16:48.398220Z"
    },
    "papermill": {
     "duration": 0.012717,
     "end_time": "2024-03-18T02:16:48.400809",
     "exception": false,
     "start_time": "2024-03-18T02:16:48.388092",
     "status": "completed"
    },
    "tags": []
   },
   "outputs": [],
   "source": [
    "# Lines below will give you a hint or solution code\n",
    "#q_2.hint()\n",
    "#q_2.solution()"
   ]
  },
  {
   "cell_type": "markdown",
   "id": "1c34571d",
   "metadata": {
    "papermill": {
     "duration": 0.006155,
     "end_time": "2024-03-18T02:16:48.413398",
     "exception": false,
     "start_time": "2024-03-18T02:16:48.407243",
     "status": "completed"
    },
    "tags": []
   },
   "source": [
    "# 3) Train #\n",
    "\n",
    "Before training a model in Keras, you need to specify an *optimizer* to perform the gradient descent, a *loss function* to be minimized, and (optionally) any *performance metrics*. The optimization algorithm we'll use for this course is called [\"Adam\"](https://keras.io/api/optimizers/adam/), which generally performs well regardless of what kind of problem you're trying to solve.\n",
    "\n",
    "The loss and the metrics, however, need to match the kind of problem you're trying to solve. Our problem is a **binary classification** problem: `Car` coded as 0, and `Truck` coded as 1. Choose an appropriate loss and an appropriate accuracy metric for binary classification."
   ]
  },
  {
   "cell_type": "code",
   "execution_count": 7,
   "id": "fd0f8693",
   "metadata": {
    "execution": {
     "iopub.execute_input": "2024-03-18T02:16:48.427558Z",
     "iopub.status.busy": "2024-03-18T02:16:48.427293Z",
     "iopub.status.idle": "2024-03-18T02:16:48.455082Z",
     "shell.execute_reply": "2024-03-18T02:16:48.454187Z"
    },
    "lines_to_next_cell": 0,
    "papermill": {
     "duration": 0.036938,
     "end_time": "2024-03-18T02:16:48.456920",
     "exception": false,
     "start_time": "2024-03-18T02:16:48.419982",
     "status": "completed"
    },
    "tags": []
   },
   "outputs": [
    {
     "data": {
      "application/javascript": [
       "parent.postMessage({\"jupyterEvent\": \"custom.exercise_interaction\", \"data\": {\"outcomeType\": 1, \"valueTowardsCompletion\": 0.25, \"interactionType\": 1, \"questionType\": 2, \"questionId\": \"3_Q3\", \"learnToolsVersion\": \"0.3.4\", \"failureMessage\": \"\", \"exceptionClass\": \"\", \"trace\": \"\"}}, \"*\")"
      ],
      "text/plain": [
       "<IPython.core.display.Javascript object>"
      ]
     },
     "metadata": {},
     "output_type": "display_data"
    },
    {
     "data": {
      "text/markdown": [
       "<span style=\"color:#33cc33\">Correct</span>"
      ],
      "text/plain": [
       "Correct"
      ]
     },
     "metadata": {},
     "output_type": "display_data"
    }
   ],
   "source": [
    "# YOUR CODE HERE: what loss function should you use for a binary\n",
    "# classification problem? (Your answer for each should be a string.)\n",
    "optimizer = tf.keras.optimizers.Adam(epsilon=0.01)\n",
    "model.compile(\n",
    "    optimizer=optimizer,\n",
    "    loss='binary_crossentropy',\n",
    "    metrics=['binary_accuracy'],\n",
    ")\n",
    "\n",
    "# Check your answer\n",
    "q_3.check()"
   ]
  },
  {
   "cell_type": "code",
   "execution_count": 8,
   "id": "3a8560d7",
   "metadata": {
    "execution": {
     "iopub.execute_input": "2024-03-18T02:16:48.471697Z",
     "iopub.status.busy": "2024-03-18T02:16:48.471428Z",
     "iopub.status.idle": "2024-03-18T02:16:48.475155Z",
     "shell.execute_reply": "2024-03-18T02:16:48.474319Z"
    },
    "lines_to_next_cell": 0,
    "papermill": {
     "duration": 0.01336,
     "end_time": "2024-03-18T02:16:48.477110",
     "exception": false,
     "start_time": "2024-03-18T02:16:48.463750",
     "status": "completed"
    },
    "tags": []
   },
   "outputs": [],
   "source": [
    "# Lines below will give you a hint or solution code\n",
    "#q_3.hint()\n",
    "#q_3.solution()"
   ]
  },
  {
   "cell_type": "code",
   "execution_count": 9,
   "id": "2bc2f4ae",
   "metadata": {
    "execution": {
     "iopub.execute_input": "2024-03-18T02:16:48.491754Z",
     "iopub.status.busy": "2024-03-18T02:16:48.491485Z",
     "iopub.status.idle": "2024-03-18T02:18:46.703334Z",
     "shell.execute_reply": "2024-03-18T02:18:46.702400Z"
    },
    "papermill": {
     "duration": 118.222133,
     "end_time": "2024-03-18T02:18:46.705998",
     "exception": false,
     "start_time": "2024-03-18T02:16:48.483865",
     "status": "completed"
    },
    "tags": []
   },
   "outputs": [
    {
     "name": "stdout",
     "output_type": "stream",
     "text": [
      "Epoch 1/30\n"
     ]
    },
    {
     "name": "stderr",
     "output_type": "stream",
     "text": [
      "WARNING: All log messages before absl::InitializeLog() is called are written to STDERR\n",
      "I0000 00:00:1710728216.264105      74 device_compiler.h:186] Compiled cluster using XLA!  This line is logged at most once for the lifetime of the process.\n"
     ]
    },
    {
     "name": "stdout",
     "output_type": "stream",
     "text": [
      "80/80 [==============================] - 20s 149ms/step - loss: 0.6201 - binary_accuracy: 0.6398 - val_loss: 0.5055 - val_binary_accuracy: 0.7565\n",
      "Epoch 2/30\n",
      "80/80 [==============================] - 3s 42ms/step - loss: 0.4472 - binary_accuracy: 0.7950 - val_loss: 0.4039 - val_binary_accuracy: 0.8256\n",
      "Epoch 3/30\n",
      "80/80 [==============================] - 3s 42ms/step - loss: 0.3967 - binary_accuracy: 0.8261 - val_loss: 0.3858 - val_binary_accuracy: 0.8353\n",
      "Epoch 4/30\n",
      "80/80 [==============================] - 3s 42ms/step - loss: 0.3761 - binary_accuracy: 0.8343 - val_loss: 0.3754 - val_binary_accuracy: 0.8398\n",
      "Epoch 5/30\n",
      "80/80 [==============================] - 3s 42ms/step - loss: 0.3622 - binary_accuracy: 0.8437 - val_loss: 0.3688 - val_binary_accuracy: 0.8420\n",
      "Epoch 6/30\n",
      "80/80 [==============================] - 3s 42ms/step - loss: 0.3505 - binary_accuracy: 0.8517 - val_loss: 0.3644 - val_binary_accuracy: 0.8436\n",
      "Epoch 7/30\n",
      "80/80 [==============================] - 3s 42ms/step - loss: 0.3413 - binary_accuracy: 0.8562 - val_loss: 0.3620 - val_binary_accuracy: 0.8452\n",
      "Epoch 8/30\n",
      "80/80 [==============================] - 3s 42ms/step - loss: 0.3329 - binary_accuracy: 0.8626 - val_loss: 0.3622 - val_binary_accuracy: 0.8438\n",
      "Epoch 9/30\n",
      "80/80 [==============================] - 3s 42ms/step - loss: 0.3265 - binary_accuracy: 0.8657 - val_loss: 0.3557 - val_binary_accuracy: 0.8478\n",
      "Epoch 10/30\n",
      "80/80 [==============================] - 3s 42ms/step - loss: 0.3193 - binary_accuracy: 0.8683 - val_loss: 0.3571 - val_binary_accuracy: 0.8468\n",
      "Epoch 11/30\n",
      "80/80 [==============================] - 3s 42ms/step - loss: 0.3127 - binary_accuracy: 0.8738 - val_loss: 0.3549 - val_binary_accuracy: 0.8485\n",
      "Epoch 12/30\n",
      "80/80 [==============================] - 3s 42ms/step - loss: 0.3073 - binary_accuracy: 0.8753 - val_loss: 0.3530 - val_binary_accuracy: 0.8483\n",
      "Epoch 13/30\n",
      "80/80 [==============================] - 3s 42ms/step - loss: 0.3017 - binary_accuracy: 0.8773 - val_loss: 0.3503 - val_binary_accuracy: 0.8481\n",
      "Epoch 14/30\n",
      "80/80 [==============================] - 3s 42ms/step - loss: 0.2965 - binary_accuracy: 0.8788 - val_loss: 0.3483 - val_binary_accuracy: 0.8507\n",
      "Epoch 15/30\n",
      "80/80 [==============================] - 3s 42ms/step - loss: 0.2913 - binary_accuracy: 0.8818 - val_loss: 0.3436 - val_binary_accuracy: 0.8553\n",
      "Epoch 16/30\n",
      "80/80 [==============================] - 3s 42ms/step - loss: 0.2863 - binary_accuracy: 0.8843 - val_loss: 0.3419 - val_binary_accuracy: 0.8563\n",
      "Epoch 17/30\n",
      "80/80 [==============================] - 3s 42ms/step - loss: 0.2820 - binary_accuracy: 0.8853 - val_loss: 0.3414 - val_binary_accuracy: 0.8561\n",
      "Epoch 18/30\n",
      "80/80 [==============================] - 3s 42ms/step - loss: 0.2780 - binary_accuracy: 0.8859 - val_loss: 0.3408 - val_binary_accuracy: 0.8580\n",
      "Epoch 19/30\n",
      "80/80 [==============================] - 3s 42ms/step - loss: 0.2739 - binary_accuracy: 0.8868 - val_loss: 0.3377 - val_binary_accuracy: 0.8584\n",
      "Epoch 20/30\n",
      "80/80 [==============================] - 3s 42ms/step - loss: 0.2696 - binary_accuracy: 0.8882 - val_loss: 0.3371 - val_binary_accuracy: 0.8590\n",
      "Epoch 21/30\n",
      "80/80 [==============================] - 3s 42ms/step - loss: 0.2660 - binary_accuracy: 0.8919 - val_loss: 0.3382 - val_binary_accuracy: 0.8596\n",
      "Epoch 22/30\n",
      "80/80 [==============================] - 3s 42ms/step - loss: 0.2624 - binary_accuracy: 0.8933 - val_loss: 0.3367 - val_binary_accuracy: 0.8600\n",
      "Epoch 23/30\n",
      "80/80 [==============================] - 3s 42ms/step - loss: 0.2587 - binary_accuracy: 0.8943 - val_loss: 0.3358 - val_binary_accuracy: 0.8606\n",
      "Epoch 24/30\n",
      "80/80 [==============================] - 3s 42ms/step - loss: 0.2551 - binary_accuracy: 0.8958 - val_loss: 0.3346 - val_binary_accuracy: 0.8610\n",
      "Epoch 25/30\n",
      "80/80 [==============================] - 3s 42ms/step - loss: 0.2518 - binary_accuracy: 0.8980 - val_loss: 0.3344 - val_binary_accuracy: 0.8606\n",
      "Epoch 26/30\n",
      "80/80 [==============================] - 3s 42ms/step - loss: 0.2485 - binary_accuracy: 0.8996 - val_loss: 0.3353 - val_binary_accuracy: 0.8606\n",
      "Epoch 27/30\n",
      "80/80 [==============================] - 3s 42ms/step - loss: 0.2455 - binary_accuracy: 0.9013 - val_loss: 0.3379 - val_binary_accuracy: 0.8604\n",
      "Epoch 28/30\n",
      "80/80 [==============================] - 3s 42ms/step - loss: 0.2426 - binary_accuracy: 0.9029 - val_loss: 0.3359 - val_binary_accuracy: 0.8612\n",
      "Epoch 29/30\n",
      "80/80 [==============================] - 3s 42ms/step - loss: 0.2398 - binary_accuracy: 0.9040 - val_loss: 0.3360 - val_binary_accuracy: 0.8614\n",
      "Epoch 30/30\n",
      "80/80 [==============================] - 3s 42ms/step - loss: 0.2369 - binary_accuracy: 0.9056 - val_loss: 0.3374 - val_binary_accuracy: 0.8620\n"
     ]
    }
   ],
   "source": [
    "history = model.fit(\n",
    "    ds_train,\n",
    "    validation_data=ds_valid,\n",
    "    epochs=30,\n",
    ")"
   ]
  },
  {
   "cell_type": "markdown",
   "id": "6c7cd64b",
   "metadata": {
    "papermill": {
     "duration": 0.078516,
     "end_time": "2024-03-18T02:18:46.869099",
     "exception": false,
     "start_time": "2024-03-18T02:18:46.790583",
     "status": "completed"
    },
    "tags": []
   },
   "source": [
    "Run the cell below to plot the loss and metric curves for this training run."
   ]
  },
  {
   "cell_type": "code",
   "execution_count": 10,
   "id": "b03c0776",
   "metadata": {
    "execution": {
     "iopub.execute_input": "2024-03-18T02:18:47.027477Z",
     "iopub.status.busy": "2024-03-18T02:18:47.027063Z",
     "iopub.status.idle": "2024-03-18T02:18:47.692774Z",
     "shell.execute_reply": "2024-03-18T02:18:47.691886Z"
    },
    "papermill": {
     "duration": 0.747664,
     "end_time": "2024-03-18T02:18:47.694979",
     "exception": false,
     "start_time": "2024-03-18T02:18:46.947315",
     "status": "completed"
    },
    "tags": []
   },
   "outputs": [
    {
     "data": {
      "image/png": "[encoded data removed]",
      "text/plain": [
       "<Figure size 640x480 with 1 Axes>"
      ]
     },
     "metadata": {},
     "output_type": "display_data"
    },
    {
     "data": {
      "image/png": "[encoded data removed]",
      "text/plain": [
       "<Figure size 640x480 with 1 Axes>"
      ]
     },
     "metadata": {},
     "output_type": "display_data"
    }
   ],
   "source": [
    "import pandas as pd\n",
    "history_frame = pd.DataFrame(history.history)\n",
    "history_frame.loc[:, ['loss', 'val_loss']].plot()\n",
    "history_frame.loc[:, ['binary_accuracy', 'val_binary_accuracy']].plot();"
   ]
  },
  {
   "cell_type": "markdown",
   "id": "e0c33ea0",
   "metadata": {
    "papermill": {
     "duration": 0.07876,
     "end_time": "2024-03-18T02:18:47.895576",
     "exception": false,
     "start_time": "2024-03-18T02:18:47.816816",
     "status": "completed"
    },
    "tags": []
   },
   "source": [
    "# 4) Examine Loss and Accuracy #\n",
    "\n",
    "Do you notice a difference between these learning curves and the curves for VGG16 from the tutorial? What does this difference tell you about what this model (InceptionV2) learned compared to VGG16? Are there ways in which one is better than the other? Worse?\n",
    "\n",
    "After you've thought about it, run the cell below to see the answer."
   ]
  },
  {
   "cell_type": "code",
   "execution_count": 11,
   "id": "bb9735fc",
   "metadata": {
    "execution": {
     "iopub.execute_input": "2024-03-18T02:18:48.054657Z",
     "iopub.status.busy": "2024-03-18T02:18:48.053833Z",
     "iopub.status.idle": "2024-03-18T02:18:48.061742Z",
     "shell.execute_reply": "2024-03-18T02:18:48.060865Z"
    },
    "papermill": {
     "duration": 0.089117,
     "end_time": "2024-03-18T02:18:48.063720",
     "exception": false,
     "start_time": "2024-03-18T02:18:47.974603",
     "status": "completed"
    },
    "tags": []
   },
   "outputs": [
    {
     "data": {
      "application/javascript": [
       "parent.postMessage({\"jupyterEvent\": \"custom.exercise_interaction\", \"data\": {\"outcomeType\": 1, \"valueTowardsCompletion\": 0.25, \"interactionType\": 1, \"questionType\": 4, \"questionId\": \"4_Q4\", \"learnToolsVersion\": \"0.3.4\", \"failureMessage\": \"\", \"exceptionClass\": \"\", \"trace\": \"\"}}, \"*\")"
      ],
      "text/plain": [
       "<IPython.core.display.Javascript object>"
      ]
     },
     "metadata": {},
     "output_type": "display_data"
    },
    {
     "data": {
      "text/markdown": [
       "<span style=\"color:#33cc33\">Correct:</span> \n",
       "\n",
       "That the training loss and validation loss stay fairly close is evidence that the model isn't just memorizing the training data, but rather learning general properties of the two classes. But, because this model converges at a loss greater than the VGG16 model, it's likely that it is underfitting some, and could benefit from some extra capacity.\n"
      ],
      "text/plain": [
       "Correct: \n",
       "\n",
       "That the training loss and validation loss stay fairly close is evidence that the model isn't just memorizing the training data, but rather learning general properties of the two classes. But, because this model converges at a loss greater than the VGG16 model, it's likely that it is underfitting some, and could benefit from some extra capacity."
      ]
     },
     "metadata": {},
     "output_type": "display_data"
    }
   ],
   "source": [
    "# View the solution (Run this code cell to receive credit!)\n",
    "q_4.check()"
   ]
  },
  {
   "cell_type": "markdown",
   "id": "0ceba086",
   "metadata": {
    "papermill": {
     "duration": 0.078835,
     "end_time": "2024-03-18T02:18:48.223304",
     "exception": false,
     "start_time": "2024-03-18T02:18:48.144469",
     "status": "completed"
    },
    "tags": []
   },
   "source": [
    "# Conclusion #\n",
    "\n",
    "In this first lesson, you learned the basics of **convolutional image classifiers**, that they consist of a **base** for extracting features from images, and a **head** which uses the features to decide the image's class. You also saw how to build a classifier with **transfer learning** on pretrained base. "
   ]
  },
  {
   "cell_type": "markdown",
   "id": "acc49d2a",
   "metadata": {
    "papermill": {
     "duration": 0.078606,
     "end_time": "2024-03-18T02:18:48.380806",
     "exception": false,
     "start_time": "2024-03-18T02:18:48.302200",
     "status": "completed"
    },
    "tags": []
   },
   "source": [
    "# Keep Going #\n",
    "\n",
    "Move on to [**Lesson 2**](https://www.kaggle.com/ryanholbrook/convolution-and-relu) for a detailed look at how the base does this feature extraction. (It's really cool!)"
   ]
  },
  {
   "cell_type": "markdown",
   "id": "50788a46",
   "metadata": {
    "papermill": {
     "duration": 0.081662,
     "end_time": "2024-03-18T02:18:48.541400",
     "exception": false,
     "start_time": "2024-03-18T02:18:48.459738",
     "status": "completed"
    },
    "tags": []
   },
   "source": [
    "---\n",
    "\n",
    "\n",
    "\n",
    "\n",
    "*Have questions or comments? Visit the [course discussion forum](https://www.kaggle.com/learn/computer-vision/discussion) to chat with other learners.*"
   ]
  }
 ],
 "metadata": {
  "jupytext": {
   "formats": "ipynb,md",
   "split_at_heading": true
  },
  "kaggle": {
   "accelerator": "gpu",
   "dataSources": [
    {
     "datasetId": 708136,
     "sourceId": 1338830,
     "sourceType": "datasetVersion"
    },
    {
     "datasetId": 701538,
     "sourceId": 1363948,
     "sourceType": "datasetVersion"
    },
    {
     "datasetId": 878523,
     "sourceId": 1495782,
     "sourceType": "datasetVersion"
    }
   ],
   "dockerImageVersionId": 30648,
   "isGpuEnabled": true,
   "isInternetEnabled": false,
   "language": "python",
   "sourceType": "notebook"
  },
  "kernelspec": {
   "display_name": "Python 3",
   "language": "python",
   "name": "python3"
  },
  "language_info": {
   "codemirror_mode": {
    "name": "ipython",
    "version": 3
   },
   "file_extension": ".py",
   "mimetype": "text/x-python",
   "name": "python",
   "nbconvert_exporter": "python",
   "pygments_lexer": "ipython3",
   "version": "3.10.13"
  },
  "papermill": {
   "default_parameters": {},
   "duration": 151.236143,
   "end_time": "2024-03-18T02:18:51.949368",
   "environment_variables": {},
   "exception": null,
   "input_path": "__notebook__.ipynb",
   "output_path": "__notebook__.ipynb",
   "parameters": {},
   "start_time": "2024-03-18T02:16:20.713225",
   "version": "2.5.0"
  }
 },
 "nbformat": 4,
 "nbformat_minor": 5
}
